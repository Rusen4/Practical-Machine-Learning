{
 "cells": [
  {
   "source": [
    "dataset link: https://drive.google.com/file/d/1uXmuA1GfHYmF9AaVRoNoeKt4W1MPL_Gn/view?usp=sharing"
   ],
   "cell_type": "markdown",
   "metadata": {}
  },
  {
   "source": [
    "# **Task 1 Identify Features + Task 3 Feature Engineering**"
   ],
   "cell_type": "markdown",
   "metadata": {}
  },
  {
   "cell_type": "code",
   "execution_count": 1,
   "metadata": {},
   "outputs": [
    {
     "output_type": "stream",
     "name": "stdout",
     "text": [
      "(423857, 25)\n"
     ]
    }
   ],
   "source": [
    "import pandas as pd\n",
    "import numpy as np\n",
    "df = pd.read_csv('vehicles.csv')\n",
    "\n",
    "print(df.shape)\n"
   ]
  },
  {
   "cell_type": "code",
   "execution_count": 2,
   "metadata": {},
   "outputs": [
    {
     "output_type": "execute_result",
     "data": {
      "text/plain": [
       "           id                                                url  \\\n",
       "0  7184791621  https://duluth.craigslist.org/ctd/d/duluth-200...   \n",
       "1  7184773187  https://duluth.craigslist.org/cto/d/saginaw-20...   \n",
       "2  7193375964  https://newhaven.craigslist.org/cto/d/stratfor...   \n",
       "3  7195108810  https://albuquerque.craigslist.org/cto/d/albuq...   \n",
       "4  7184712241  https://duluth.craigslist.org/ctd/d/rush-city-...   \n",
       "5  7184711787  https://duluth.craigslist.org/ctd/d/rush-city-...   \n",
       "6  7184710887  https://duluth.craigslist.org/ctd/d/rush-city-...   \n",
       "7  7184710023  https://duluth.craigslist.org/ctd/d/rush-city-...   \n",
       "8  7184709156  https://duluth.craigslist.org/ctd/d/rush-city-...   \n",
       "9  7184708752  https://duluth.craigslist.org/ctd/d/rush-city-...   \n",
       "\n",
       "              region                          region_url  price    year  \\\n",
       "0  duluth / superior       https://duluth.craigslist.org   6995  2000.0   \n",
       "1  duluth / superior       https://duluth.craigslist.org   8750  2013.0   \n",
       "2          new haven     https://newhaven.craigslist.org  10900  2013.0   \n",
       "3        albuquerque  https://albuquerque.craigslist.org  12500  2003.0   \n",
       "4  duluth / superior       https://duluth.craigslist.org  16995  2007.0   \n",
       "5  duluth / superior       https://duluth.craigslist.org  13995  2012.0   \n",
       "6  duluth / superior       https://duluth.craigslist.org   7995  2010.0   \n",
       "7  duluth / superior       https://duluth.craigslist.org   8995  2011.0   \n",
       "8  duluth / superior       https://duluth.craigslist.org  10995  2014.0   \n",
       "9  duluth / superior       https://duluth.craigslist.org  12995  2004.0   \n",
       "\n",
       "  manufacturer                  model  condition    cylinders  ... drive  \\\n",
       "0          gmc        new sierra 1500  excellent  8 cylinders  ...   4wd   \n",
       "1      hyundai                 sonata  excellent  4 cylinders  ...   fwd   \n",
       "2       toyota                  prius       good  4 cylinders  ...   fwd   \n",
       "3   mitsubishi                 lancer       good  4 cylinders  ...   4wd   \n",
       "4          gmc  sierra classic 2500hd       good  8 cylinders  ...   4wd   \n",
       "5         ford                  f-150       good  6 cylinders  ...   4wd   \n",
       "6    chevrolet                equinox       good  4 cylinders  ...   4wd   \n",
       "7    chevrolet               traverse       good  6 cylinders  ...   4wd   \n",
       "8         ford               explorer       good  6 cylinders  ...   4wd   \n",
       "9          ram                   2500       good  6 cylinders  ...   4wd   \n",
       "\n",
       "        size   type paint_color  \\\n",
       "0        NaN    NaN         red   \n",
       "1        NaN    NaN        grey   \n",
       "2        NaN    NaN        blue   \n",
       "3   mid-size  sedan        grey   \n",
       "4  full-size  truck       white   \n",
       "5  full-size  truck        grey   \n",
       "6  full-size    SUV        grey   \n",
       "7  full-size    SUV       white   \n",
       "8  full-size    SUV       white   \n",
       "9  full-size  truck      custom   \n",
       "\n",
       "                                           image_url  \\\n",
       "0  https://images.craigslist.org/00n0n_f06ykBMcdh...   \n",
       "1  https://images.craigslist.org/00d0d_kgZ6xoeRw2...   \n",
       "2  https://images.craigslist.org/00d0d_3sHGxPbY2O...   \n",
       "3  https://images.craigslist.org/00m0m_4a8Pb6JbMG...   \n",
       "4  https://images.craigslist.org/01414_g093aPtSMW...   \n",
       "5  https://images.craigslist.org/00W0W_io2cwEVtyh...   \n",
       "6  https://images.craigslist.org/00404_j5GItixnjX...   \n",
       "7  https://images.craigslist.org/00T0T_bwYCuKicjX...   \n",
       "8  https://images.craigslist.org/00O0O_j7JSL1b8Qr...   \n",
       "9  https://images.craigslist.org/00w0w_7Igao5t6ZX...   \n",
       "\n",
       "                                         description county state      lat  \\\n",
       "0  2000 *** GMC New Sierra 1500 Ext Cab 157.5  WB...    NaN    mn  46.8433   \n",
       "1  For Sale:  2013 Hyundai Sonata GLS - $8750.  O...    NaN    mn  46.9074   \n",
       "2  2013 Prius V Model Two. One owner—must sell my...    NaN    ct  41.1770   \n",
       "3  2003 Mitsubishi Lancer Evolution, silver.  Abo...    NaN    nm  35.1868   \n",
       "4  **Bad Credit, No Credit... No Problem!**2007 G...    NaN    mn  45.6836   \n",
       "5  **Bad Credit, No Credit... No Problem!**2012 F...    NaN    mn  45.6836   \n",
       "6  **Bad Credit, No Credit... No Problem!**2010 C...    NaN    mn  45.6836   \n",
       "7  **Bad Credit, No Credit... No Problem!**2011 C...    NaN    mn  45.6836   \n",
       "8  **Bad Credit, No Credit... No Problem!**2014 F...    NaN    mn  45.6836   \n",
       "9  **Bad Credit, No Credit... No Problem!**2004 D...    NaN    mn  45.6836   \n",
       "\n",
       "       long  \n",
       "0  -92.2550  \n",
       "1  -92.4638  \n",
       "2  -73.1336  \n",
       "3 -106.6650  \n",
       "4  -92.9648  \n",
       "5  -92.9648  \n",
       "6  -92.9648  \n",
       "7  -92.9648  \n",
       "8  -92.9648  \n",
       "9  -92.9648  \n",
       "\n",
       "[10 rows x 25 columns]"
      ],
      "text/html": "<div>\n<style scoped>\n    .dataframe tbody tr th:only-of-type {\n        vertical-align: middle;\n    }\n\n    .dataframe tbody tr th {\n        vertical-align: top;\n    }\n\n    .dataframe thead th {\n        text-align: right;\n    }\n</style>\n<table border=\"1\" class=\"dataframe\">\n  <thead>\n    <tr style=\"text-align: right;\">\n      <th></th>\n      <th>id</th>\n      <th>url</th>\n      <th>region</th>\n      <th>region_url</th>\n      <th>price</th>\n      <th>year</th>\n      <th>manufacturer</th>\n      <th>model</th>\n      <th>condition</th>\n      <th>cylinders</th>\n      <th>...</th>\n      <th>drive</th>\n      <th>size</th>\n      <th>type</th>\n      <th>paint_color</th>\n      <th>image_url</th>\n      <th>description</th>\n      <th>county</th>\n      <th>state</th>\n      <th>lat</th>\n      <th>long</th>\n    </tr>\n  </thead>\n  <tbody>\n    <tr>\n      <td>0</td>\n      <td>7184791621</td>\n      <td>https://duluth.craigslist.org/ctd/d/duluth-200...</td>\n      <td>duluth / superior</td>\n      <td>https://duluth.craigslist.org</td>\n      <td>6995</td>\n      <td>2000.0</td>\n      <td>gmc</td>\n      <td>new sierra 1500</td>\n      <td>excellent</td>\n      <td>8 cylinders</td>\n      <td>...</td>\n      <td>4wd</td>\n      <td>NaN</td>\n      <td>NaN</td>\n      <td>red</td>\n      <td>https://images.craigslist.org/00n0n_f06ykBMcdh...</td>\n      <td>2000 *** GMC New Sierra 1500 Ext Cab 157.5  WB...</td>\n      <td>NaN</td>\n      <td>mn</td>\n      <td>46.8433</td>\n      <td>-92.2550</td>\n    </tr>\n    <tr>\n      <td>1</td>\n      <td>7184773187</td>\n      <td>https://duluth.craigslist.org/cto/d/saginaw-20...</td>\n      <td>duluth / superior</td>\n      <td>https://duluth.craigslist.org</td>\n      <td>8750</td>\n      <td>2013.0</td>\n      <td>hyundai</td>\n      <td>sonata</td>\n      <td>excellent</td>\n      <td>4 cylinders</td>\n      <td>...</td>\n      <td>fwd</td>\n      <td>NaN</td>\n      <td>NaN</td>\n      <td>grey</td>\n      <td>https://images.craigslist.org/00d0d_kgZ6xoeRw2...</td>\n      <td>For Sale:  2013 Hyundai Sonata GLS - $8750.  O...</td>\n      <td>NaN</td>\n      <td>mn</td>\n      <td>46.9074</td>\n      <td>-92.4638</td>\n    </tr>\n    <tr>\n      <td>2</td>\n      <td>7193375964</td>\n      <td>https://newhaven.craigslist.org/cto/d/stratfor...</td>\n      <td>new haven</td>\n      <td>https://newhaven.craigslist.org</td>\n      <td>10900</td>\n      <td>2013.0</td>\n      <td>toyota</td>\n      <td>prius</td>\n      <td>good</td>\n      <td>4 cylinders</td>\n      <td>...</td>\n      <td>fwd</td>\n      <td>NaN</td>\n      <td>NaN</td>\n      <td>blue</td>\n      <td>https://images.craigslist.org/00d0d_3sHGxPbY2O...</td>\n      <td>2013 Prius V Model Two. One owner—must sell my...</td>\n      <td>NaN</td>\n      <td>ct</td>\n      <td>41.1770</td>\n      <td>-73.1336</td>\n    </tr>\n    <tr>\n      <td>3</td>\n      <td>7195108810</td>\n      <td>https://albuquerque.craigslist.org/cto/d/albuq...</td>\n      <td>albuquerque</td>\n      <td>https://albuquerque.craigslist.org</td>\n      <td>12500</td>\n      <td>2003.0</td>\n      <td>mitsubishi</td>\n      <td>lancer</td>\n      <td>good</td>\n      <td>4 cylinders</td>\n      <td>...</td>\n      <td>4wd</td>\n      <td>mid-size</td>\n      <td>sedan</td>\n      <td>grey</td>\n      <td>https://images.craigslist.org/00m0m_4a8Pb6JbMG...</td>\n      <td>2003 Mitsubishi Lancer Evolution, silver.  Abo...</td>\n      <td>NaN</td>\n      <td>nm</td>\n      <td>35.1868</td>\n      <td>-106.6650</td>\n    </tr>\n    <tr>\n      <td>4</td>\n      <td>7184712241</td>\n      <td>https://duluth.craigslist.org/ctd/d/rush-city-...</td>\n      <td>duluth / superior</td>\n      <td>https://duluth.craigslist.org</td>\n      <td>16995</td>\n      <td>2007.0</td>\n      <td>gmc</td>\n      <td>sierra classic 2500hd</td>\n      <td>good</td>\n      <td>8 cylinders</td>\n      <td>...</td>\n      <td>4wd</td>\n      <td>full-size</td>\n      <td>truck</td>\n      <td>white</td>\n      <td>https://images.craigslist.org/01414_g093aPtSMW...</td>\n      <td>**Bad Credit, No Credit... No Problem!**2007 G...</td>\n      <td>NaN</td>\n      <td>mn</td>\n      <td>45.6836</td>\n      <td>-92.9648</td>\n    </tr>\n    <tr>\n      <td>5</td>\n      <td>7184711787</td>\n      <td>https://duluth.craigslist.org/ctd/d/rush-city-...</td>\n      <td>duluth / superior</td>\n      <td>https://duluth.craigslist.org</td>\n      <td>13995</td>\n      <td>2012.0</td>\n      <td>ford</td>\n      <td>f-150</td>\n      <td>good</td>\n      <td>6 cylinders</td>\n      <td>...</td>\n      <td>4wd</td>\n      <td>full-size</td>\n      <td>truck</td>\n      <td>grey</td>\n      <td>https://images.craigslist.org/00W0W_io2cwEVtyh...</td>\n      <td>**Bad Credit, No Credit... No Problem!**2012 F...</td>\n      <td>NaN</td>\n      <td>mn</td>\n      <td>45.6836</td>\n      <td>-92.9648</td>\n    </tr>\n    <tr>\n      <td>6</td>\n      <td>7184710887</td>\n      <td>https://duluth.craigslist.org/ctd/d/rush-city-...</td>\n      <td>duluth / superior</td>\n      <td>https://duluth.craigslist.org</td>\n      <td>7995</td>\n      <td>2010.0</td>\n      <td>chevrolet</td>\n      <td>equinox</td>\n      <td>good</td>\n      <td>4 cylinders</td>\n      <td>...</td>\n      <td>4wd</td>\n      <td>full-size</td>\n      <td>SUV</td>\n      <td>grey</td>\n      <td>https://images.craigslist.org/00404_j5GItixnjX...</td>\n      <td>**Bad Credit, No Credit... No Problem!**2010 C...</td>\n      <td>NaN</td>\n      <td>mn</td>\n      <td>45.6836</td>\n      <td>-92.9648</td>\n    </tr>\n    <tr>\n      <td>7</td>\n      <td>7184710023</td>\n      <td>https://duluth.craigslist.org/ctd/d/rush-city-...</td>\n      <td>duluth / superior</td>\n      <td>https://duluth.craigslist.org</td>\n      <td>8995</td>\n      <td>2011.0</td>\n      <td>chevrolet</td>\n      <td>traverse</td>\n      <td>good</td>\n      <td>6 cylinders</td>\n      <td>...</td>\n      <td>4wd</td>\n      <td>full-size</td>\n      <td>SUV</td>\n      <td>white</td>\n      <td>https://images.craigslist.org/00T0T_bwYCuKicjX...</td>\n      <td>**Bad Credit, No Credit... No Problem!**2011 C...</td>\n      <td>NaN</td>\n      <td>mn</td>\n      <td>45.6836</td>\n      <td>-92.9648</td>\n    </tr>\n    <tr>\n      <td>8</td>\n      <td>7184709156</td>\n      <td>https://duluth.craigslist.org/ctd/d/rush-city-...</td>\n      <td>duluth / superior</td>\n      <td>https://duluth.craigslist.org</td>\n      <td>10995</td>\n      <td>2014.0</td>\n      <td>ford</td>\n      <td>explorer</td>\n      <td>good</td>\n      <td>6 cylinders</td>\n      <td>...</td>\n      <td>4wd</td>\n      <td>full-size</td>\n      <td>SUV</td>\n      <td>white</td>\n      <td>https://images.craigslist.org/00O0O_j7JSL1b8Qr...</td>\n      <td>**Bad Credit, No Credit... No Problem!**2014 F...</td>\n      <td>NaN</td>\n      <td>mn</td>\n      <td>45.6836</td>\n      <td>-92.9648</td>\n    </tr>\n    <tr>\n      <td>9</td>\n      <td>7184708752</td>\n      <td>https://duluth.craigslist.org/ctd/d/rush-city-...</td>\n      <td>duluth / superior</td>\n      <td>https://duluth.craigslist.org</td>\n      <td>12995</td>\n      <td>2004.0</td>\n      <td>ram</td>\n      <td>2500</td>\n      <td>good</td>\n      <td>6 cylinders</td>\n      <td>...</td>\n      <td>4wd</td>\n      <td>full-size</td>\n      <td>truck</td>\n      <td>custom</td>\n      <td>https://images.craigslist.org/00w0w_7Igao5t6ZX...</td>\n      <td>**Bad Credit, No Credit... No Problem!**2004 D...</td>\n      <td>NaN</td>\n      <td>mn</td>\n      <td>45.6836</td>\n      <td>-92.9648</td>\n    </tr>\n  </tbody>\n</table>\n<p>10 rows × 25 columns</p>\n</div>"
     },
     "metadata": {},
     "execution_count": 2
    }
   ],
   "source": [
    "df.head(10)"
   ]
  },
  {
   "cell_type": "code",
   "execution_count": 3,
   "metadata": {},
   "outputs": [
    {
     "output_type": "stream",
     "name": "stdout",
     "text": [
      "<class 'pandas.core.frame.DataFrame'>\nRangeIndex: 423857 entries, 0 to 423856\nData columns (total 25 columns):\nid              423857 non-null int64\nurl             423857 non-null object\nregion          423857 non-null object\nregion_url      423857 non-null object\nprice           423857 non-null int64\nyear            328743 non-null float64\nmanufacturer    313242 non-null object\nmodel           325384 non-null object\ncondition       176719 non-null object\ncylinders       197679 non-null object\nfuel            327214 non-null object\nodometer        270585 non-null float64\ntitle_status    327759 non-null object\ntransmission    328065 non-null object\nvin             184420 non-null object\ndrive           231119 non-null object\nsize            102627 non-null object\ntype            241157 non-null object\npaint_color     222203 non-null object\nimage_url       329661 non-null object\ndescription     329654 non-null object\ncounty          0 non-null float64\nstate           423857 non-null object\nlat             324404 non-null float64\nlong            324404 non-null float64\ndtypes: float64(5), int64(2), object(18)\nmemory usage: 80.8+ MB\n"
     ]
    }
   ],
   "source": [
    "df.info()"
   ]
  },
  {
   "cell_type": "markdown",
   "metadata": {},
   "source": [
    "# Cleaning data\n",
    "เช็คดูค่า null ใน dataframe"
   ]
  },
  {
   "cell_type": "code",
   "execution_count": 4,
   "metadata": {},
   "outputs": [
    {
     "output_type": "execute_result",
     "data": {
      "text/plain": [
       "id                   0\n",
       "url                  0\n",
       "region               0\n",
       "region_url           0\n",
       "price                0\n",
       "year             95114\n",
       "manufacturer    110615\n",
       "model            98473\n",
       "condition       247138\n",
       "cylinders       226178\n",
       "fuel             96643\n",
       "odometer        153272\n",
       "title_status     96098\n",
       "transmission     95792\n",
       "vin             239437\n",
       "drive           192738\n",
       "size            321230\n",
       "type            182700\n",
       "paint_color     201654\n",
       "image_url        94196\n",
       "description      94203\n",
       "county          423857\n",
       "state                0\n",
       "lat              99453\n",
       "long             99453\n",
       "dtype: int64"
      ]
     },
     "metadata": {},
     "execution_count": 4
    }
   ],
   "source": [
    "df.isnull().sum()"
   ]
  },
  {
   "cell_type": "markdown",
   "metadata": {},
   "source": [
    "แสดงเปอร์เซ็นต์ของค่า null แต่ละคอลัมน์"
   ]
  },
  {
   "cell_type": "code",
   "execution_count": 5,
   "metadata": {},
   "outputs": [
    {
     "output_type": "stream",
     "name": "stdout",
     "text": [
      "id - 0%\n",
      "url - 0%\n",
      "region - 0%\n",
      "region_url - 0%\n",
      "price - 0%\n",
      "year - 22%\n",
      "manufacturer - 26%\n",
      "model - 23%\n",
      "condition - 58%\n",
      "cylinders - 53%\n",
      "fuel - 23%\n",
      "odometer - 36%\n",
      "title_status - 23%\n",
      "transmission - 23%\n",
      "vin - 56%\n",
      "drive - 45%\n",
      "size - 76%\n",
      "type - 43%\n",
      "paint_color - 48%\n",
      "image_url - 22%\n",
      "description - 22%\n",
      "county - 100%\n",
      "state - 0%\n",
      "lat - 23%\n",
      "long - 23%\n"
     ]
    }
   ],
   "source": [
    "for col in df.columns:\n",
    "    pct_missing = np.mean(df[col].isnull())\n",
    "    print('{} - {}%'.format(col, round(pct_missing*100)))"
   ]
  },
  {
   "cell_type": "code",
   "execution_count": 6,
   "metadata": {},
   "outputs": [
    {
     "output_type": "stream",
     "name": "stdout",
     "text": [
      "Index(['id', 'url', 'region', 'region_url', 'price', 'year', 'manufacturer',\n       'model', 'cylinders', 'fuel', 'odometer', 'title_status',\n       'transmission', 'drive', 'type', 'paint_color', 'image_url',\n       'description', 'state', 'lat', 'long'],\n      dtype='object')\n(423857, 21)\n"
     ]
    }
   ],
   "source": [
    "NA_val = df.isna().sum()\n",
    "def na_filter(na, threshold = .55): #only select variables that passees the threshold\n",
    "    col_pass = []\n",
    "    for i in na.keys():\n",
    "        if na[i]/df.shape[0]<threshold:\n",
    "            col_pass.append(i)\n",
    "    return col_pass\n",
    "df_cleaned = df[na_filter(NA_val)]\n",
    "print(df_cleaned.columns)\n",
    "print(df_cleaned.shape)"
   ]
  },
  {
   "cell_type": "markdown",
   "metadata": {},
   "source": [
    "จากโค้ดด้านบนทำการเลือกเอาคอลัมน์ที่มีค่าnullมากกว่า 55% ออกจากdataframe"
   ]
  },
  {
   "cell_type": "code",
   "execution_count": 7,
   "metadata": {},
   "outputs": [
    {
     "output_type": "execute_result",
     "data": {
      "text/plain": [
       "id                   0\n",
       "url                  0\n",
       "region               0\n",
       "region_url           0\n",
       "price                0\n",
       "year             95114\n",
       "manufacturer    110615\n",
       "model            98473\n",
       "cylinders       226178\n",
       "fuel             96643\n",
       "odometer        153272\n",
       "title_status     96098\n",
       "transmission     95792\n",
       "drive           192738\n",
       "type            182700\n",
       "paint_color     201654\n",
       "image_url        94196\n",
       "description      94203\n",
       "state                0\n",
       "lat              99453\n",
       "long             99453\n",
       "dtype: int64"
      ]
     },
     "metadata": {},
     "execution_count": 7
    }
   ],
   "source": [
    "df_cleaned.isnull().sum()"
   ]
  },
  {
   "cell_type": "code",
   "execution_count": 8,
   "metadata": {},
   "outputs": [
    {
     "output_type": "execute_result",
     "data": {
      "text/plain": [
       "(115345, 21)"
      ]
     },
     "metadata": {},
     "execution_count": 8
    }
   ],
   "source": [
    "#drop row that contain null value\n",
    "df_cleaned = df_cleaned.dropna(how='any', axis=0)\n",
    "df_cleaned.shape"
   ]
  },
  {
   "cell_type": "markdown",
   "metadata": {},
   "source": [
    "เนื่องจากข้อมูลในdataframeมีค่าnullมากเกินไปจึงทำการเอาแถวใดก็ตามที่มีค่าnullออกจากdataframe"
   ]
  },
  {
   "cell_type": "code",
   "execution_count": 9,
   "metadata": {},
   "outputs": [
    {
     "output_type": "execute_result",
     "data": {
      "text/plain": [
       "id              0\n",
       "url             0\n",
       "region          0\n",
       "region_url      0\n",
       "price           0\n",
       "year            0\n",
       "manufacturer    0\n",
       "model           0\n",
       "cylinders       0\n",
       "fuel            0\n",
       "odometer        0\n",
       "title_status    0\n",
       "transmission    0\n",
       "drive           0\n",
       "type            0\n",
       "paint_color     0\n",
       "image_url       0\n",
       "description     0\n",
       "state           0\n",
       "lat             0\n",
       "long            0\n",
       "dtype: int64"
      ]
     },
     "metadata": {},
     "execution_count": 9
    }
   ],
   "source": [
    "df_cleaned.isnull().sum()"
   ]
  },
  {
   "cell_type": "markdown",
   "metadata": {},
   "source": [
    "เอา features ที่ไม่จำเป็นออก"
   ]
  },
  {
   "cell_type": "code",
   "execution_count": 10,
   "metadata": {},
   "outputs": [
    {
     "output_type": "execute_result",
     "data": {
      "text/plain": [
       "                id                                                url  \\\n",
       "4       7184712241  https://duluth.craigslist.org/ctd/d/rush-city-...   \n",
       "5       7184711787  https://duluth.craigslist.org/ctd/d/rush-city-...   \n",
       "6       7184710887  https://duluth.craigslist.org/ctd/d/rush-city-...   \n",
       "7       7184710023  https://duluth.craigslist.org/ctd/d/rush-city-...   \n",
       "8       7184709156  https://duluth.craigslist.org/ctd/d/rush-city-...   \n",
       "...            ...                                                ...   \n",
       "423849  7193376881  https://newhaven.craigslist.org/cto/d/north-br...   \n",
       "423850  7195116716  https://albuquerque.craigslist.org/cto/d/albuq...   \n",
       "423851  7195116656  https://albuquerque.craigslist.org/cto/d/islet...   \n",
       "423852  7184919761  https://duluth.craigslist.org/cto/d/duluth-200...   \n",
       "423853  7184844576  https://duluth.craigslist.org/cto/d/duluth-200...   \n",
       "\n",
       "                                region_url  \\\n",
       "4            https://duluth.craigslist.org   \n",
       "5            https://duluth.craigslist.org   \n",
       "6            https://duluth.craigslist.org   \n",
       "7            https://duluth.craigslist.org   \n",
       "8            https://duluth.craigslist.org   \n",
       "...                                    ...   \n",
       "423849     https://newhaven.craigslist.org   \n",
       "423850  https://albuquerque.craigslist.org   \n",
       "423851  https://albuquerque.craigslist.org   \n",
       "423852       https://duluth.craigslist.org   \n",
       "423853       https://duluth.craigslist.org   \n",
       "\n",
       "                                                image_url             region  \\\n",
       "4       https://images.craigslist.org/01414_g093aPtSMW...  duluth / superior   \n",
       "5       https://images.craigslist.org/00W0W_io2cwEVtyh...  duluth / superior   \n",
       "6       https://images.craigslist.org/00404_j5GItixnjX...  duluth / superior   \n",
       "7       https://images.craigslist.org/00T0T_bwYCuKicjX...  duluth / superior   \n",
       "8       https://images.craigslist.org/00O0O_j7JSL1b8Qr...  duluth / superior   \n",
       "...                                                   ...                ...   \n",
       "423849  https://images.craigslist.org/00N0N_cheN7HMRM5...          new haven   \n",
       "423850  https://images.craigslist.org/00c0c_8Mbp45Q29F...        albuquerque   \n",
       "423851  https://images.craigslist.org/00P0P_l0mIBkQXtv...        albuquerque   \n",
       "423852  https://images.craigslist.org/00E0E_8o5RKLUz3o...  duluth / superior   \n",
       "423853  https://images.craigslist.org/00G0G_BT0Ha3X736...  duluth / superior   \n",
       "\n",
       "       state                                        description  \\\n",
       "4         mn  **Bad Credit, No Credit... No Problem!**2007 G...   \n",
       "5         mn  **Bad Credit, No Credit... No Problem!**2012 F...   \n",
       "6         mn  **Bad Credit, No Credit... No Problem!**2010 C...   \n",
       "7         mn  **Bad Credit, No Credit... No Problem!**2011 C...   \n",
       "8         mn  **Bad Credit, No Credit... No Problem!**2014 F...   \n",
       "...      ...                                                ...   \n",
       "423849    ct  I have posted for sale one of my company vehic...   \n",
       "423850    nm  This Saturn was going to be my project car. It...   \n",
       "423851    nm  NICE 2002  BLUE FORD MUSTANG GT IN EXCELENT CO...   \n",
       "423852    mn  Motor runs and drives good. Transmission shift...   \n",
       "423853    mn  2 owner 0 rust not from here... Leather ,roof ...   \n",
       "\n",
       "                            model  \n",
       "4           sierra classic 2500hd  \n",
       "5                           f-150  \n",
       "6                         equinox  \n",
       "7                        traverse  \n",
       "8                        explorer  \n",
       "...                           ...  \n",
       "423849  forester 2.5x premium awd  \n",
       "423850                        sc2  \n",
       "423851           mustang gt coupe  \n",
       "423852                     sonata  \n",
       "423853            sequoia limited  \n",
       "\n",
       "[115345 rows x 8 columns]"
      ],
      "text/html": "<div>\n<style scoped>\n    .dataframe tbody tr th:only-of-type {\n        vertical-align: middle;\n    }\n\n    .dataframe tbody tr th {\n        vertical-align: top;\n    }\n\n    .dataframe thead th {\n        text-align: right;\n    }\n</style>\n<table border=\"1\" class=\"dataframe\">\n  <thead>\n    <tr style=\"text-align: right;\">\n      <th></th>\n      <th>id</th>\n      <th>url</th>\n      <th>region_url</th>\n      <th>image_url</th>\n      <th>region</th>\n      <th>state</th>\n      <th>description</th>\n      <th>model</th>\n    </tr>\n  </thead>\n  <tbody>\n    <tr>\n      <td>4</td>\n      <td>7184712241</td>\n      <td>https://duluth.craigslist.org/ctd/d/rush-city-...</td>\n      <td>https://duluth.craigslist.org</td>\n      <td>https://images.craigslist.org/01414_g093aPtSMW...</td>\n      <td>duluth / superior</td>\n      <td>mn</td>\n      <td>**Bad Credit, No Credit... No Problem!**2007 G...</td>\n      <td>sierra classic 2500hd</td>\n    </tr>\n    <tr>\n      <td>5</td>\n      <td>7184711787</td>\n      <td>https://duluth.craigslist.org/ctd/d/rush-city-...</td>\n      <td>https://duluth.craigslist.org</td>\n      <td>https://images.craigslist.org/00W0W_io2cwEVtyh...</td>\n      <td>duluth / superior</td>\n      <td>mn</td>\n      <td>**Bad Credit, No Credit... No Problem!**2012 F...</td>\n      <td>f-150</td>\n    </tr>\n    <tr>\n      <td>6</td>\n      <td>7184710887</td>\n      <td>https://duluth.craigslist.org/ctd/d/rush-city-...</td>\n      <td>https://duluth.craigslist.org</td>\n      <td>https://images.craigslist.org/00404_j5GItixnjX...</td>\n      <td>duluth / superior</td>\n      <td>mn</td>\n      <td>**Bad Credit, No Credit... No Problem!**2010 C...</td>\n      <td>equinox</td>\n    </tr>\n    <tr>\n      <td>7</td>\n      <td>7184710023</td>\n      <td>https://duluth.craigslist.org/ctd/d/rush-city-...</td>\n      <td>https://duluth.craigslist.org</td>\n      <td>https://images.craigslist.org/00T0T_bwYCuKicjX...</td>\n      <td>duluth / superior</td>\n      <td>mn</td>\n      <td>**Bad Credit, No Credit... No Problem!**2011 C...</td>\n      <td>traverse</td>\n    </tr>\n    <tr>\n      <td>8</td>\n      <td>7184709156</td>\n      <td>https://duluth.craigslist.org/ctd/d/rush-city-...</td>\n      <td>https://duluth.craigslist.org</td>\n      <td>https://images.craigslist.org/00O0O_j7JSL1b8Qr...</td>\n      <td>duluth / superior</td>\n      <td>mn</td>\n      <td>**Bad Credit, No Credit... No Problem!**2014 F...</td>\n      <td>explorer</td>\n    </tr>\n    <tr>\n      <td>...</td>\n      <td>...</td>\n      <td>...</td>\n      <td>...</td>\n      <td>...</td>\n      <td>...</td>\n      <td>...</td>\n      <td>...</td>\n      <td>...</td>\n    </tr>\n    <tr>\n      <td>423849</td>\n      <td>7193376881</td>\n      <td>https://newhaven.craigslist.org/cto/d/north-br...</td>\n      <td>https://newhaven.craigslist.org</td>\n      <td>https://images.craigslist.org/00N0N_cheN7HMRM5...</td>\n      <td>new haven</td>\n      <td>ct</td>\n      <td>I have posted for sale one of my company vehic...</td>\n      <td>forester 2.5x premium awd</td>\n    </tr>\n    <tr>\n      <td>423850</td>\n      <td>7195116716</td>\n      <td>https://albuquerque.craigslist.org/cto/d/albuq...</td>\n      <td>https://albuquerque.craigslist.org</td>\n      <td>https://images.craigslist.org/00c0c_8Mbp45Q29F...</td>\n      <td>albuquerque</td>\n      <td>nm</td>\n      <td>This Saturn was going to be my project car. It...</td>\n      <td>sc2</td>\n    </tr>\n    <tr>\n      <td>423851</td>\n      <td>7195116656</td>\n      <td>https://albuquerque.craigslist.org/cto/d/islet...</td>\n      <td>https://albuquerque.craigslist.org</td>\n      <td>https://images.craigslist.org/00P0P_l0mIBkQXtv...</td>\n      <td>albuquerque</td>\n      <td>nm</td>\n      <td>NICE 2002  BLUE FORD MUSTANG GT IN EXCELENT CO...</td>\n      <td>mustang gt coupe</td>\n    </tr>\n    <tr>\n      <td>423852</td>\n      <td>7184919761</td>\n      <td>https://duluth.craigslist.org/cto/d/duluth-200...</td>\n      <td>https://duluth.craigslist.org</td>\n      <td>https://images.craigslist.org/00E0E_8o5RKLUz3o...</td>\n      <td>duluth / superior</td>\n      <td>mn</td>\n      <td>Motor runs and drives good. Transmission shift...</td>\n      <td>sonata</td>\n    </tr>\n    <tr>\n      <td>423853</td>\n      <td>7184844576</td>\n      <td>https://duluth.craigslist.org/cto/d/duluth-200...</td>\n      <td>https://duluth.craigslist.org</td>\n      <td>https://images.craigslist.org/00G0G_BT0Ha3X736...</td>\n      <td>duluth / superior</td>\n      <td>mn</td>\n      <td>2 owner 0 rust not from here... Leather ,roof ...</td>\n      <td>sequoia limited</td>\n    </tr>\n  </tbody>\n</table>\n<p>115345 rows × 8 columns</p>\n</div>"
     },
     "metadata": {},
     "execution_count": 10
    }
   ],
   "source": [
    "df_cleaned[['id','url','region_url','image_url','region','state','description','model']]"
   ]
  },
  {
   "cell_type": "code",
   "execution_count": 11,
   "metadata": {},
   "outputs": [
    {
     "output_type": "execute_result",
     "data": {
      "text/plain": [
       "array(['sierra classic 2500hd', 'f-150', 'equinox', ...,\n",
       "       'legacy awd premium', 'sienns xlt awd', 'juke nismo'], dtype=object)"
      ]
     },
     "metadata": {},
     "execution_count": 11
    }
   ],
   "source": [
    "df_cleaned.model.unique()"
   ]
  },
  {
   "cell_type": "code",
   "execution_count": 12,
   "metadata": {},
   "outputs": [
    {
     "output_type": "stream",
     "name": "stdout",
     "text": [
      "Number of unique values in column \"model\" \n10977\n"
     ]
    }
   ],
   "source": [
    "uniqueValues = df_cleaned['model'].nunique()\n",
    "\n",
    "print('Number of unique values in column \"model\" ')\n",
    "print(uniqueValues)"
   ]
  },
  {
   "cell_type": "code",
   "execution_count": 13,
   "metadata": {},
   "outputs": [
    {
     "output_type": "stream",
     "name": "stdout",
     "text": [
      "(115345, 13)\nIndex(['price', 'year', 'manufacturer', 'cylinders', 'fuel', 'odometer',\n       'title_status', 'transmission', 'drive', 'type', 'paint_color', 'lat',\n       'long'],\n      dtype='object')\n"
     ]
    }
   ],
   "source": [
    "df_final =  df_cleaned.copy().drop(['id', 'url', 'region_url', 'image_url', 'region', 'description'\n",
    "                          ,'state', 'model'], axis=1)\n",
    "print(df_final.shape)\n",
    "print(df_final.columns)"
   ]
  },
  {
   "cell_type": "markdown",
   "metadata": {},
   "source": [
    "เหตุผลในการเอาคอลัมน์ข้างต้นออก เพราะว่า.. <br> \n",
    "1.คอลัมน์ id เอาไว้แค่สำหรับระบุลำดับของ recordsของdataframe ซึ่งไม่มีความหมายต่อ target <br>\n",
    "2.คอลัมน์ url, region_url และ image_url เป็นข้อมูลที่เป็น url ซึ่งไม่มีความหมายต่อ target <br>\n",
    "3.คอลัมน์ region, state สามารถใช้ค่าของคอลัมน์ lat และ long แทนกันได้ ซึ่งให้ความหมายเดียวกันในการระบุสถานที่ <br>\n",
    "4.คอลัมน์ description เป็นข้อมูลที่ไม่จำหรับการทำนายราคารถ <br>\n",
    "5.คอลัมน์ model มีค่า unique value ที่มากเกินไป(4798) และข้อมูลเป็น object ซึ่งเมื่อencodeข้อมูลจะทำให้มีคอลัมน์ใหม่เพิ่มเข้ามาเป็นจำนวนมาก\n",
    "และจะทำให้การสร้างโมเดลใช้เวลานานมาก <br>"
   ]
  },
  {
   "cell_type": "code",
   "execution_count": 14,
   "metadata": {},
   "outputs": [
    {
     "output_type": "execute_result",
     "data": {
      "text/plain": [
       "(8000, 13)"
      ]
     },
     "metadata": {},
     "execution_count": 14
    }
   ],
   "source": [
    "#subsample data beacause large data requires large memory to process, and my computer has less RAM\n",
    "df_final = df_final.sample(n=8000, random_state=1)\n",
    "df_final.shape"
   ]
  },
  {
   "cell_type": "code",
   "execution_count": 15,
   "metadata": {},
   "outputs": [
    {
     "output_type": "stream",
     "name": "stdout",
     "text": [
      "Index(['price', 'year', 'odometer', 'lat', 'long', 'manufacturer_alfa-romeo',\n       'manufacturer_aston-martin', 'manufacturer_audi', 'manufacturer_bmw',\n       'manufacturer_buick', 'manufacturer_cadillac', 'manufacturer_chevrolet',\n       'manufacturer_chrysler', 'manufacturer_datsun', 'manufacturer_dodge',\n       'manufacturer_ferrari', 'manufacturer_fiat', 'manufacturer_ford',\n       'manufacturer_gmc', 'manufacturer_harley-davidson',\n       'manufacturer_honda', 'manufacturer_hyundai', 'manufacturer_infiniti',\n       'manufacturer_jaguar', 'manufacturer_jeep', 'manufacturer_kia',\n       'manufacturer_land rover', 'manufacturer_lexus', 'manufacturer_lincoln',\n       'manufacturer_mazda', 'manufacturer_mercedes-benz',\n       'manufacturer_mercury', 'manufacturer_mini', 'manufacturer_mitsubishi',\n       'manufacturer_nissan', 'manufacturer_pontiac', 'manufacturer_ram',\n       'manufacturer_rover', 'manufacturer_saturn', 'manufacturer_subaru',\n       'manufacturer_tesla', 'manufacturer_toyota', 'manufacturer_volkswagen',\n       'manufacturer_volvo', 'cylinders_12 cylinders', 'cylinders_3 cylinders',\n       'cylinders_4 cylinders', 'cylinders_5 cylinders',\n       'cylinders_6 cylinders', 'cylinders_8 cylinders', 'cylinders_other',\n       'fuel_electric', 'fuel_gas', 'fuel_hybrid', 'fuel_other',\n       'title_status_lien', 'title_status_missing', 'title_status_parts only',\n       'title_status_rebuilt', 'title_status_salvage', 'transmission_manual',\n       'transmission_other', 'drive_fwd', 'drive_rwd', 'type_bus',\n       'type_convertible', 'type_coupe', 'type_hatchback', 'type_mini-van',\n       'type_offroad', 'type_other', 'type_pickup', 'type_sedan', 'type_truck',\n       'type_van', 'type_wagon', 'paint_color_blue', 'paint_color_brown',\n       'paint_color_custom', 'paint_color_green', 'paint_color_grey',\n       'paint_color_orange', 'paint_color_purple', 'paint_color_red',\n       'paint_color_silver', 'paint_color_white', 'paint_color_yellow'],\n      dtype='object')\n"
     ]
    }
   ],
   "source": [
    "#encode categorical variables with get_dimmies function\n",
    "df_final = pd.get_dummies(df_final, drop_first=True)\n",
    "print(df_final.columns)"
   ]
  },
  {
   "cell_type": "code",
   "execution_count": 16,
   "metadata": {},
   "outputs": [
    {
     "output_type": "stream",
     "name": "stdout",
     "text": [
      "(8000, 86)\n(8000,)\n"
     ]
    }
   ],
   "source": [
    "X = df_final.copy().drop(['price'],axis=1)\n",
    "y = df_final['price']\n",
    "print(X.shape)\n",
    "print(y.shape)"
   ]
  },
  {
   "cell_type": "markdown",
   "metadata": {},
   "source": [
    "เนื่องจากข้อมูลของไฟล์csvนี้มีจำนวนมากถึง 4 แสนกว่า records ซึ่งมีจำนวนมากเกินไปไม่สามารถรันบนคอมพิวเตอร์ขนาดเล็กได้ และมากเกินไปในการรันโมเดลmachine learning จึงsubsampleเหลือเพียง 8000 records "
   ]
  },
  {
   "cell_type": "markdown",
   "metadata": {},
   "source": [
    "# **Task 2 Preprocessing and Baseline Model**"
   ]
  },
  {
   "cell_type": "code",
   "execution_count": 17,
   "metadata": {},
   "outputs": [
    {
     "output_type": "stream",
     "name": "stdout",
     "text": [
      "Ridge Cross-validation scores:\n[0.38260713 0.34404559 0.40752338 0.45708263 0.41060166]\nRidge Mean Accuracy: 0.40\n"
     ]
    }
   ],
   "source": [
    "from sklearn.model_selection import cross_val_score\n",
    "from sklearn.linear_model import Ridge\n",
    "from sklearn.model_selection import KFold\n",
    "from sklearn.preprocessing import MinMaxScaler\n",
    "from sklearn.ensemble import RandomForestRegressor\n",
    "\n",
    "scale = MinMaxScaler()\n",
    "X_scale = scale.fit_transform(X)\n",
    "kfold = KFold(n_splits=5, shuffle=True, random_state=0)\n",
    "ridge = Ridge()\n",
    "score = cross_val_score(ridge, X_scale, y, cv=kfold, n_jobs=-1)\n",
    "print(\"Ridge Cross-validation scores:\\n{}\".format(score))\n",
    "print(\"Ridge Mean Accuracy: {:.2f}\".format(score.mean()))\n",
    "\n"
   ]
  },
  {
   "cell_type": "code",
   "execution_count": 18,
   "metadata": {},
   "outputs": [
    {
     "output_type": "stream",
     "name": "stdout",
     "text": [
      "Polynomials feature shape: (8000, 3827)\nRidge Cross-validation scores:\n[0.5307736  0.50308985 0.53592597 0.53066782 0.53264245]\nRidge Mean Accuracy: 0.53\n"
     ]
    }
   ],
   "source": [
    "from sklearn.preprocessing import PolynomialFeatures\n",
    "poly = PolynomialFeatures(degree=2, include_bias=False)\n",
    "X_poly = poly.fit_transform(X_scale)\n",
    "score1 = cross_val_score(ridge, X_poly, y, cv=kfold, n_jobs=-1)\n",
    "print(\"Polynomials feature shape: {}\".format(X_poly.shape))\n",
    "print(\"Ridge Cross-validation scores:\\n{}\".format(score1))\n",
    "print(\"Ridge Mean Accuracy: {:.2f}\".format(score1 .mean()))"
   ]
  },
  {
   "cell_type": "markdown",
   "metadata": {},
   "source": [
    "ในtask 2 นี้ ได้ทำการสร้างโมเดลRidgeซึ่งเป็นlinear model โดยก่อนที่จะfitข้อมูลเข้ากับโมเดล ได้ทำการscaleข้อมูลด้วยMinMaxScaler<br>\n",
    "ซึ่งจะทำให้ข้อมูลอยู่ในสเกลระหว่าง 0 ถึง 1 และจากนั้นจะวัดaccuracyด้วยการทำcross-validationซึ่งได้ความแม่นยำโดยเฉลี่ยอยู่ที่ 0.40 <br>\n",
    "แล้วจากนั้นจะทำPolynomial Features เพื่อทำให้linear modelมีประสิทธิภาพมากยิ่งขึ้นเพราะการทำPolynomialจะทำให้โมเดลยืดหยุ่นและมีslopeมากขึ้นโดยใช้degree=2 แล้ววัดความแม่นยำด้วย cross-validation เหมือนเดิม จะได้ความแม่นยำเฉลี่ยอยู่ที่ 0.53 ซึ่งแม่นยำมากกว่าตอนที่ไม่ได้ทำPolynomialมาก"
   ]
  },
  {
   "cell_type": "markdown",
   "metadata": {},
   "source": [
    "# **Task 4 Any model**"
   ]
  },
  {
   "cell_type": "code",
   "execution_count": 19,
   "metadata": {},
   "outputs": [
    {
     "output_type": "stream",
     "name": "stdout",
     "text": [
      "RandomForestRegressor Cross-validation scores:\n[0.68192184 0.63003408 0.6740909  0.69731663 0.64490941]\nRandomForestRegressor Mean Accuracy: 0.67\n"
     ]
    }
   ],
   "source": [
    "from sklearn.ensemble import RandomForestRegressor\n",
    "\n",
    "forest = RandomForestRegressor(n_estimators=70, max_depth=14, random_state=42, n_jobs=-1)\n",
    "score2 = cross_val_score(forest, X_scale, y, cv=kfold, n_jobs=-1)\n",
    "print(\"RandomForestRegressor Cross-validation scores:\\n{}\".format(score2))\n",
    "print(\"RandomForestRegressor Mean Accuracy: {:.2f}\".format(score2.mean()))"
   ]
  },
  {
   "cell_type": "markdown",
   "metadata": {},
   "source": [
    "เลือกใช้โมเดล RandomForestRegressor เพราะโมเดลพวกRandomForestเป็นโมเดลที่ไม่ต้องทำการtune parametersหรือทำpreprocessingมาก ก็สามารถทำงานและมีความแม่นยำได้ดี โดยจากโค้ดด้านบนความแม่นยำโดยเฉลี่ยอยู่ที่ 0.67"
   ]
  },
  {
   "cell_type": "markdown",
   "metadata": {},
   "source": [
    "# **Task 5 Feature Selections**"
   ]
  },
  {
   "cell_type": "code",
   "execution_count": 20,
   "metadata": {},
   "outputs": [
    {
     "output_type": "stream",
     "name": "stdout",
     "text": [
      "X.shape: (8000, 86)\nX_select.shape: (8000, 43)\n"
     ]
    }
   ],
   "source": [
    "from sklearn.feature_selection import SelectFromModel\n",
    "\n",
    "select = SelectFromModel(RandomForestRegressor(n_estimators=70, max_depth=14, random_state=42), threshold=\"median\")\n",
    "select.fit(X_scale, y)\n",
    "X_select = select.transform(X_scale)\n",
    "print(\"X.shape: {}\".format(X_scale.shape))\n",
    "print(\"X_select.shape: {}\".format(X_select.shape))\n",
    "\n"
   ]
  },
  {
   "cell_type": "markdown",
   "metadata": {},
   "source": [
    "ทำการFeature Selection โดยวิธีการModel Based Feature selection ซึ่งใช้SelectFromModelโดยใช้thresholdเป็นmedian ซึ่งก็คือเลือกfeatureให้เหลือครึ่งนึง โดยmodel based feature selection จะทำการเลือกfeatureที่มีความสำคัญต่อการทำนายมากที่สุด โดยจะเลือกจากค่าfeatureที่มีค่าimportanceสูงๆ"
   ]
  },
  {
   "cell_type": "markdown",
   "metadata": {},
   "source": [
    "# **Task 6 An explainable model**"
   ]
  },
  {
   "cell_type": "code",
   "execution_count": 21,
   "metadata": {},
   "outputs": [
    {
     "output_type": "stream",
     "name": "stdout",
     "text": [
      "RandomForestRegressor Cross-validation scores with Feature Selection:\n[0.67948178 0.6266713  0.67464978 0.69256524 0.64258055]\nRandomForestRegressor Mean Accuracy with Feature Selection: 0.66\n"
     ]
    }
   ],
   "source": [
    "score3 = cross_val_score(forest, X_select, y, cv=kfold, n_jobs=-1)\n",
    "print(\"RandomForestRegressor Cross-validation scores with Feature Selection:\\n{}\".format(score3))\n",
    "print(\"RandomForestRegressor Mean Accuracy with Feature Selection: {:.2f}\".format(score3.mean()))"
   ]
  },
  {
   "cell_type": "markdown",
   "metadata": {},
   "source": [
    "จากโค้ดด้านบนจะเห็นว่าหลังจากทำfeature selection แล้วจาก86 features เหลือแค่43features และเมื่อทำการรันโมเดลRandomForestRegressor แล้ววัดผลอีกรอบ ค่าความแม่นยำโดยเฉลี่ยอยู่ที่ 0.66 ซึ่งลดลงมาเพียงเล็กน้อยเมื่อเทียบกับการรันโดยใช้featureทั้งหมด"
   ]
  },
  {
   "cell_type": "code",
   "execution_count": null,
   "metadata": {},
   "outputs": [],
   "source": []
  }
 ],
 "metadata": {
  "kernelspec": {
   "display_name": "Python 3",
   "language": "python",
   "name": "python3"
  },
  "language_info": {
   "codemirror_mode": {
    "name": "ipython",
    "version": 3
   },
   "file_extension": ".py",
   "mimetype": "text/x-python",
   "name": "python",
   "nbconvert_exporter": "python",
   "pygments_lexer": "ipython3",
   "version": "3.6.12-final"
  }
 },
 "nbformat": 4,
 "nbformat_minor": 4
}